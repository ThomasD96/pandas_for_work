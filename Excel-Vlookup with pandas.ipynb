{
 "cells": [
  {
   "cell_type": "markdown",
   "metadata": {},
   "source": [
    "Sources:<br>\n",
    "https://stackoverflow.com/questions/39993238/vlookup-between-2-pandas-dataframes\n",
    "\n",
    "https://stackoverflow.com/questions/42370977/how-to-save-a-new-sheet-in-an-existing-excel-file-using-pandas"
   ]
  },
  {
   "cell_type": "code",
   "execution_count": 64,
   "metadata": {},
   "outputs": [],
   "source": [
    "import pandas as pd\n",
    "from pandas import ExcelWriter\n",
    "from openpyxl import load_workbook"
   ]
  },
  {
   "cell_type": "code",
   "execution_count": 65,
   "metadata": {},
   "outputs": [],
   "source": [
    "path = 'test.xlsx'\n",
    "writer = pd.ExcelWriter(path, engine = 'openpyxl')\n",
    "book = load_workbook(path)\n",
    "writer.book = book"
   ]
  },
  {
   "cell_type": "code",
   "execution_count": 66,
   "metadata": {},
   "outputs": [
    {
     "data": {
      "text/plain": [
       "['HR', 'Berechtigung', 'Vlookup']"
      ]
     },
     "execution_count": 66,
     "metadata": {},
     "output_type": "execute_result"
    }
   ],
   "source": [
    "xl = pd.ExcelFile(path)\n",
    "xl.sheet_names"
   ]
  },
  {
   "cell_type": "markdown",
   "metadata": {
    "heading_collapsed": true
   },
   "source": [
    "## Step_1: Read in WorkSheet 1"
   ]
  },
  {
   "cell_type": "code",
   "execution_count": 67,
   "metadata": {
    "hidden": true
   },
   "outputs": [
    {
     "data": {
      "text/html": [
       "<div>\n",
       "<style scoped>\n",
       "    .dataframe tbody tr th:only-of-type {\n",
       "        vertical-align: middle;\n",
       "    }\n",
       "\n",
       "    .dataframe tbody tr th {\n",
       "        vertical-align: top;\n",
       "    }\n",
       "\n",
       "    .dataframe thead th {\n",
       "        text-align: right;\n",
       "    }\n",
       "</style>\n",
       "<table border=\"1\" class=\"dataframe\">\n",
       "  <thead>\n",
       "    <tr style=\"text-align: right;\">\n",
       "      <th></th>\n",
       "      <th>Name</th>\n",
       "      <th>Austritt</th>\n",
       "      <th>Sport</th>\n",
       "      <th>Gender</th>\n",
       "      <th>Berechtigung</th>\n",
       "    </tr>\n",
       "  </thead>\n",
       "  <tbody>\n",
       "    <tr>\n",
       "      <th>0</th>\n",
       "      <td>Thomas</td>\n",
       "      <td>2019-01-01</td>\n",
       "      <td>Bad</td>\n",
       "      <td>m</td>\n",
       "      <td>Inaktiv</td>\n",
       "    </tr>\n",
       "    <tr>\n",
       "      <th>1</th>\n",
       "      <td>Marie</td>\n",
       "      <td>2019-01-02</td>\n",
       "      <td>Fut</td>\n",
       "      <td>f</td>\n",
       "      <td>Inaktiv</td>\n",
       "    </tr>\n",
       "    <tr>\n",
       "      <th>2</th>\n",
       "      <td>Lisa</td>\n",
       "      <td>2019-01-03</td>\n",
       "      <td>nein</td>\n",
       "      <td>f</td>\n",
       "      <td>Inaktiv</td>\n",
       "    </tr>\n",
       "    <tr>\n",
       "      <th>3</th>\n",
       "      <td>Theo</td>\n",
       "      <td>2019-01-04</td>\n",
       "      <td>Fut</td>\n",
       "      <td>m</td>\n",
       "      <td>Inaktiv</td>\n",
       "    </tr>\n",
       "    <tr>\n",
       "      <th>4</th>\n",
       "      <td>Leo</td>\n",
       "      <td>2019-01-05</td>\n",
       "      <td>Kunst</td>\n",
       "      <td>m</td>\n",
       "      <td>Inaktiv</td>\n",
       "    </tr>\n",
       "    <tr>\n",
       "      <th>5</th>\n",
       "      <td>Theri</td>\n",
       "      <td>2019-01-06</td>\n",
       "      <td>Laser</td>\n",
       "      <td>m</td>\n",
       "      <td>Inaktiv</td>\n",
       "    </tr>\n",
       "    <tr>\n",
       "      <th>6</th>\n",
       "      <td>Joni</td>\n",
       "      <td>2019-01-07</td>\n",
       "      <td>Tec</td>\n",
       "      <td>m</td>\n",
       "      <td>Inaktiv</td>\n",
       "    </tr>\n",
       "    <tr>\n",
       "      <th>7</th>\n",
       "      <td>Meli</td>\n",
       "      <td>2019-01-08</td>\n",
       "      <td>Tisch</td>\n",
       "      <td>f</td>\n",
       "      <td>Inaktiv</td>\n",
       "    </tr>\n",
       "    <tr>\n",
       "      <th>8</th>\n",
       "      <td>Michi</td>\n",
       "      <td>2019-01-09</td>\n",
       "      <td>Fuss</td>\n",
       "      <td>f</td>\n",
       "      <td>Inaktiv</td>\n",
       "    </tr>\n",
       "    <tr>\n",
       "      <th>9</th>\n",
       "      <td>Theresa</td>\n",
       "      <td>2019-01-10</td>\n",
       "      <td>Laser</td>\n",
       "      <td>f</td>\n",
       "      <td>Inaktiv</td>\n",
       "    </tr>\n",
       "  </tbody>\n",
       "</table>\n",
       "</div>"
      ],
      "text/plain": [
       "      Name   Austritt  Sport Gender Berechtigung\n",
       "0   Thomas 2019-01-01    Bad      m      Inaktiv\n",
       "1    Marie 2019-01-02    Fut      f      Inaktiv\n",
       "2     Lisa 2019-01-03   nein      f      Inaktiv\n",
       "3     Theo 2019-01-04    Fut      m      Inaktiv\n",
       "4      Leo 2019-01-05  Kunst      m      Inaktiv\n",
       "5    Theri 2019-01-06  Laser      m      Inaktiv\n",
       "6     Joni 2019-01-07    Tec      m      Inaktiv\n",
       "7     Meli 2019-01-08  Tisch      f      Inaktiv\n",
       "8    Michi 2019-01-09   Fuss      f      Inaktiv\n",
       "9  Theresa 2019-01-10  Laser      f      Inaktiv"
      ]
     },
     "execution_count": 67,
     "metadata": {},
     "output_type": "execute_result"
    }
   ],
   "source": [
    "df_1= pd.read_excel(open('test.xlsx', 'rb'), sheet_name='HR', dtype={'Name': str, 'Gender': str})\n",
    "df_1"
   ]
  },
  {
   "cell_type": "markdown",
   "metadata": {
    "heading_collapsed": true
   },
   "source": [
    "## Step_2: Read in WorkSheet 2"
   ]
  },
  {
   "cell_type": "code",
   "execution_count": 38,
   "metadata": {
    "hidden": true
   },
   "outputs": [
    {
     "data": {
      "text/html": [
       "<div>\n",
       "<style scoped>\n",
       "    .dataframe tbody tr th:only-of-type {\n",
       "        vertical-align: middle;\n",
       "    }\n",
       "\n",
       "    .dataframe tbody tr th {\n",
       "        vertical-align: top;\n",
       "    }\n",
       "\n",
       "    .dataframe thead th {\n",
       "        text-align: right;\n",
       "    }\n",
       "</style>\n",
       "<table border=\"1\" class=\"dataframe\">\n",
       "  <thead>\n",
       "    <tr style=\"text-align: right;\">\n",
       "      <th></th>\n",
       "      <th>Name</th>\n",
       "    </tr>\n",
       "  </thead>\n",
       "  <tbody>\n",
       "    <tr>\n",
       "      <th>0</th>\n",
       "      <td>Thomas</td>\n",
       "    </tr>\n",
       "    <tr>\n",
       "      <th>1</th>\n",
       "      <td>Marie</td>\n",
       "    </tr>\n",
       "    <tr>\n",
       "      <th>2</th>\n",
       "      <td>Lisa</td>\n",
       "    </tr>\n",
       "    <tr>\n",
       "      <th>3</th>\n",
       "      <td>Theo</td>\n",
       "    </tr>\n",
       "    <tr>\n",
       "      <th>4</th>\n",
       "      <td>Theri</td>\n",
       "    </tr>\n",
       "    <tr>\n",
       "      <th>5</th>\n",
       "      <td>Joni</td>\n",
       "    </tr>\n",
       "    <tr>\n",
       "      <th>6</th>\n",
       "      <td>Michi</td>\n",
       "    </tr>\n",
       "  </tbody>\n",
       "</table>\n",
       "</div>"
      ],
      "text/plain": [
       "     Name\n",
       "0  Thomas\n",
       "1   Marie\n",
       "2    Lisa\n",
       "3    Theo\n",
       "4   Theri\n",
       "5    Joni\n",
       "6   Michi"
      ]
     },
     "execution_count": 38,
     "metadata": {},
     "output_type": "execute_result"
    }
   ],
   "source": [
    "df_2= pd.read_excel(open('test.xlsx', 'rb'), sheet_name='Berechtigung')\n",
    "df_2"
   ]
  },
  {
   "cell_type": "markdown",
   "metadata": {
    "heading_collapsed": true
   },
   "source": [
    "## Possible Solutions"
   ]
  },
  {
   "cell_type": "markdown",
   "metadata": {
    "heading_collapsed": true,
    "hidden": true
   },
   "source": [
    "### Solution_1: Simple Merge"
   ]
  },
  {
   "cell_type": "code",
   "execution_count": 39,
   "metadata": {
    "hidden": true
   },
   "outputs": [
    {
     "data": {
      "text/html": [
       "<div>\n",
       "<style scoped>\n",
       "    .dataframe tbody tr th:only-of-type {\n",
       "        vertical-align: middle;\n",
       "    }\n",
       "\n",
       "    .dataframe tbody tr th {\n",
       "        vertical-align: top;\n",
       "    }\n",
       "\n",
       "    .dataframe thead th {\n",
       "        text-align: right;\n",
       "    }\n",
       "</style>\n",
       "<table border=\"1\" class=\"dataframe\">\n",
       "  <thead>\n",
       "    <tr style=\"text-align: right;\">\n",
       "      <th></th>\n",
       "      <th>Name</th>\n",
       "      <th>Berechtigung</th>\n",
       "      <th>Gender</th>\n",
       "    </tr>\n",
       "  </thead>\n",
       "  <tbody>\n",
       "    <tr>\n",
       "      <th>0</th>\n",
       "      <td>Thomas</td>\n",
       "      <td>Inaktiv</td>\n",
       "      <td>m</td>\n",
       "    </tr>\n",
       "    <tr>\n",
       "      <th>1</th>\n",
       "      <td>Marie</td>\n",
       "      <td>Inaktiv</td>\n",
       "      <td>f</td>\n",
       "    </tr>\n",
       "    <tr>\n",
       "      <th>2</th>\n",
       "      <td>Lisa</td>\n",
       "      <td>Inaktiv</td>\n",
       "      <td>f</td>\n",
       "    </tr>\n",
       "    <tr>\n",
       "      <th>3</th>\n",
       "      <td>Theo</td>\n",
       "      <td>Inaktiv</td>\n",
       "      <td>m</td>\n",
       "    </tr>\n",
       "    <tr>\n",
       "      <th>4</th>\n",
       "      <td>Theri</td>\n",
       "      <td>Inaktiv</td>\n",
       "      <td>m</td>\n",
       "    </tr>\n",
       "    <tr>\n",
       "      <th>5</th>\n",
       "      <td>Joni</td>\n",
       "      <td>Inaktiv</td>\n",
       "      <td>m</td>\n",
       "    </tr>\n",
       "    <tr>\n",
       "      <th>6</th>\n",
       "      <td>Michi</td>\n",
       "      <td>Inaktiv</td>\n",
       "      <td>f</td>\n",
       "    </tr>\n",
       "  </tbody>\n",
       "</table>\n",
       "</div>"
      ],
      "text/plain": [
       "     Name Berechtigung Gender\n",
       "0  Thomas      Inaktiv      m\n",
       "1   Marie      Inaktiv      f\n",
       "2    Lisa      Inaktiv      f\n",
       "3    Theo      Inaktiv      m\n",
       "4   Theri      Inaktiv      m\n",
       "5    Joni      Inaktiv      m\n",
       "6   Michi      Inaktiv      f"
      ]
     },
     "execution_count": 39,
     "metadata": {},
     "output_type": "execute_result"
    }
   ],
   "source": [
    "df3 = pd.merge(df_1, df_2)[['Name', 'Berechtigung', 'Gender']]\n",
    "df3"
   ]
  },
  {
   "cell_type": "markdown",
   "metadata": {
    "heading_collapsed": true,
    "hidden": true
   },
   "source": [
    "### Solution_2: Inner Join"
   ]
  },
  {
   "cell_type": "code",
   "execution_count": 40,
   "metadata": {
    "hidden": true
   },
   "outputs": [
    {
     "data": {
      "text/html": [
       "<div>\n",
       "<style scoped>\n",
       "    .dataframe tbody tr th:only-of-type {\n",
       "        vertical-align: middle;\n",
       "    }\n",
       "\n",
       "    .dataframe tbody tr th {\n",
       "        vertical-align: top;\n",
       "    }\n",
       "\n",
       "    .dataframe thead th {\n",
       "        text-align: right;\n",
       "    }\n",
       "</style>\n",
       "<table border=\"1\" class=\"dataframe\">\n",
       "  <thead>\n",
       "    <tr style=\"text-align: right;\">\n",
       "      <th></th>\n",
       "      <th>Name</th>\n",
       "      <th>Austritt</th>\n",
       "      <th>Sport</th>\n",
       "      <th>Gender</th>\n",
       "      <th>Berechtigung</th>\n",
       "    </tr>\n",
       "  </thead>\n",
       "  <tbody>\n",
       "    <tr>\n",
       "      <th>0</th>\n",
       "      <td>Thomas</td>\n",
       "      <td>2019-01-01</td>\n",
       "      <td>Bad</td>\n",
       "      <td>m</td>\n",
       "      <td>Inaktiv</td>\n",
       "    </tr>\n",
       "    <tr>\n",
       "      <th>1</th>\n",
       "      <td>Marie</td>\n",
       "      <td>2019-01-02</td>\n",
       "      <td>Fut</td>\n",
       "      <td>f</td>\n",
       "      <td>Inaktiv</td>\n",
       "    </tr>\n",
       "    <tr>\n",
       "      <th>2</th>\n",
       "      <td>Lisa</td>\n",
       "      <td>2019-01-03</td>\n",
       "      <td>nein</td>\n",
       "      <td>f</td>\n",
       "      <td>Inaktiv</td>\n",
       "    </tr>\n",
       "    <tr>\n",
       "      <th>3</th>\n",
       "      <td>Theo</td>\n",
       "      <td>2019-01-04</td>\n",
       "      <td>Fut</td>\n",
       "      <td>m</td>\n",
       "      <td>Inaktiv</td>\n",
       "    </tr>\n",
       "    <tr>\n",
       "      <th>4</th>\n",
       "      <td>Theri</td>\n",
       "      <td>2019-01-06</td>\n",
       "      <td>Laser</td>\n",
       "      <td>m</td>\n",
       "      <td>Inaktiv</td>\n",
       "    </tr>\n",
       "    <tr>\n",
       "      <th>5</th>\n",
       "      <td>Joni</td>\n",
       "      <td>2019-01-07</td>\n",
       "      <td>Tec</td>\n",
       "      <td>m</td>\n",
       "      <td>Inaktiv</td>\n",
       "    </tr>\n",
       "    <tr>\n",
       "      <th>6</th>\n",
       "      <td>Michi</td>\n",
       "      <td>2019-01-09</td>\n",
       "      <td>Fuss</td>\n",
       "      <td>f</td>\n",
       "      <td>Inaktiv</td>\n",
       "    </tr>\n",
       "  </tbody>\n",
       "</table>\n",
       "</div>"
      ],
      "text/plain": [
       "     Name   Austritt Sport  Gender Berechtigung\n",
       "0  Thomas 2019-01-01    Bad      m      Inaktiv\n",
       "1   Marie 2019-01-02    Fut      f      Inaktiv\n",
       "2    Lisa 2019-01-03   nein      f      Inaktiv\n",
       "3    Theo 2019-01-04    Fut      m      Inaktiv\n",
       "4   Theri 2019-01-06  Laser      m      Inaktiv\n",
       "5    Joni 2019-01-07    Tec      m      Inaktiv\n",
       "6   Michi 2019-01-09   Fuss      f      Inaktiv"
      ]
     },
     "execution_count": 40,
     "metadata": {},
     "output_type": "execute_result"
    }
   ],
   "source": [
    "result_2 = df_1.merge(df_2, on = 'Name', how = 'inner')\n",
    "result_2"
   ]
  }
 ],
 "metadata": {
  "hide_input": false,
  "kernelspec": {
   "display_name": "Python 3",
   "language": "python",
   "name": "python3"
  },
  "language_info": {
   "codemirror_mode": {
    "name": "ipython",
    "version": 3
   },
   "file_extension": ".py",
   "mimetype": "text/x-python",
   "name": "python",
   "nbconvert_exporter": "python",
   "pygments_lexer": "ipython3",
   "version": "3.7.6"
  },
  "varInspector": {
   "cols": {
    "lenName": 16,
    "lenType": 16,
    "lenVar": 40
   },
   "kernels_config": {
    "python": {
     "delete_cmd_postfix": "",
     "delete_cmd_prefix": "del ",
     "library": "var_list.py",
     "varRefreshCmd": "print(var_dic_list())"
    },
    "r": {
     "delete_cmd_postfix": ") ",
     "delete_cmd_prefix": "rm(",
     "library": "var_list.r",
     "varRefreshCmd": "cat(var_dic_list()) "
    }
   },
   "types_to_exclude": [
    "module",
    "function",
    "builtin_function_or_method",
    "instance",
    "_Feature"
   ],
   "window_display": false
  }
 },
 "nbformat": 4,
 "nbformat_minor": 2
}
