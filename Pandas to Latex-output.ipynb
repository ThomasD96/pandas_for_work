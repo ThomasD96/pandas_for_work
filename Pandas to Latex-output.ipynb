{
 "cells": [
  {
   "cell_type": "code",
   "execution_count": 16,
   "metadata": {},
   "outputs": [],
   "source": [
    "import pandas as pd\n",
    "import numpy as np\n",
    "import io\n",
    "import warnings\n",
    "warnings.filterwarnings(\"ignore\")"
   ]
  },
  {
   "cell_type": "code",
   "execution_count": 17,
   "metadata": {},
   "outputs": [],
   "source": [
    "# Sample-dataframe\n",
    "data = pd.DataFrame({\"a\":range(10), \"b\":range(10,20)})"
   ]
  },
  {
   "cell_type": "code",
   "execution_count": 18,
   "metadata": {},
   "outputs": [],
   "source": [
    "def convertToLaTeX(df, alignment=\"c\"):\n",
    "    \"\"\"\n",
    "    Convert a pandas dataframe to a LaTeX tabular.\n",
    "    Prints labels in bold, does not use math mode\n",
    "    \"\"\"\n",
    "    numColumns = df.shape[1]\n",
    "    numRows = df.shape[0]\n",
    "    output = io.StringIO()\n",
    "    colFormat = (\"%s|%s\" % (alignment, alignment * numColumns))\n",
    "    #Write header\n",
    "    output.write(\"\\\\begin{tabular}{%s}\\n\" % colFormat)\n",
    "    columnLabels = [\"\\\\textbf{%s}\" % label for label in df.columns]\n",
    "    output.write(\"& %s\\\\\\\\\\\\hline\\n\" % \" & \".join(columnLabels))\n",
    "    #Write data lines\n",
    "    for i in range(numRows):\n",
    "        output.write(\"\\\\textbf{%s} & %s\\\\\\\\\\n\"\n",
    "                     % (df.index[i], \" & \".join([str(val) for val in df.ix[i]])))\n",
    "    #Write footer\n",
    "    output.write(\"\\\\end{tabular}\")\n",
    "    return output.getvalue()"
   ]
  },
  {
   "cell_type": "code",
   "execution_count": 19,
   "metadata": {},
   "outputs": [
    {
     "name": "stdout",
     "output_type": "stream",
     "text": [
      "\\begin{tabular}{c|cc}\n",
      "& \\textbf{a} & \\textbf{b}\\\\\\hline\n",
      "\\textbf{0} & 0 & 10\\\\\n",
      "\\textbf{1} & 1 & 11\\\\\n",
      "\\textbf{2} & 2 & 12\\\\\n",
      "\\textbf{3} & 3 & 13\\\\\n",
      "\\textbf{4} & 4 & 14\\\\\n",
      "\\textbf{5} & 5 & 15\\\\\n",
      "\\textbf{6} & 6 & 16\\\\\n",
      "\\textbf{7} & 7 & 17\\\\\n",
      "\\textbf{8} & 8 & 18\\\\\n",
      "\\textbf{9} & 9 & 19\\\\\n",
      "\\end{tabular}\n"
     ]
    }
   ],
   "source": [
    "#array = np.zeros((5,6))\n",
    "#df = pd.DataFrame(array, index=list(\"abcde\"), columns=list(\"ABCDEF\"))\n",
    "print(convertToLaTeX(data))"
   ]
  },
  {
   "cell_type": "code",
   "execution_count": null,
   "metadata": {},
   "outputs": [],
   "source": []
  }
 ],
 "metadata": {
  "kernelspec": {
   "display_name": "Python 3",
   "language": "python",
   "name": "python3"
  },
  "language_info": {
   "codemirror_mode": {
    "name": "ipython",
    "version": 3
   },
   "file_extension": ".py",
   "mimetype": "text/x-python",
   "name": "python",
   "nbconvert_exporter": "python",
   "pygments_lexer": "ipython3",
   "version": "3.7.4"
  }
 },
 "nbformat": 4,
 "nbformat_minor": 2
}
