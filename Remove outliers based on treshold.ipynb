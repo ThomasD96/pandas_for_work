{
 "cells": [
  {
   "cell_type": "code",
   "execution_count": null,
   "metadata": {},
   "outputs": [],
   "source": [
    "def remove_missing(df_train, df_test, thredhold):\n",
    "    \n",
    "    # get the missing column and missing values percentage\n",
    "    train_missing = (df_train.isnull().sum() / len(df_train)).sort_values(ascending = False)\n",
    "    test_missing = (df_test.isnull().sum() / len(df_test)).sort_values(ascending = False)\n",
    "    \n",
    "    # filter the missing values by thredhold\n",
    "    train_missing = train_missing.index[train_missing > thredhold]\n",
    "    test_missing = test_missing.index[test_missing > thredhold]\n",
    "    \n",
    "    # combine the missing values columns from train and test\n",
    "    all_missing = list(set(set(train_missing) | set(test_missing)))\n",
    "    print('There are %d columns with more than %s%% missing values' % (len(all_missing), thredhold))\n",
    "    \n",
    "    # save the target column\n",
    "    train_labels = train[\"TARGET\"]\n",
    "    \n",
    "    # drop the missing values columns\n",
    "    df_train = df_train.drop(columns = all_missing)\n",
    "    df_test = df_test.drop(columns = all_missing)\n",
    "    \n",
    "    # align the columns from both table\n",
    "    df_train, df_test = df_train.align(df_test, join = 'inner', axis = 1)\n",
    "    df_train, df_test = df_train.align(df_test, join = 'inner', axis = 1)\n",
    "    \n",
    "    df_train[\"TARGET\"] = train_labels\n",
    "    \n",
    "    print('Training set full shape: ', df_train.shape)\n",
    "    print('Testing set full shape: ' , df_test.shape)\n",
    "    \n",
    "    return df_train, df_test"
   ]
  },
  {
   "cell_type": "code",
   "execution_count": null,
   "metadata": {},
   "outputs": [],
   "source": [
    "encoded_train, encoded_test = remove_missing(encoded_train, encoded_test, 0.60)"
   ]
  },
  {
   "cell_type": "markdown",
   "metadata": {},
   "source": [
    "There are 92 columns with more than 0.6% missing values<break><br>\n",
    "Training set full shape:  (307511, 617)<break><br>\n",
    "Testing set full shape:  (48744, 616)"
   ]
  }
 ],
 "metadata": {
  "kernelspec": {
   "display_name": "Python 3",
   "language": "python",
   "name": "python3"
  },
  "language_info": {
   "codemirror_mode": {
    "name": "ipython",
    "version": 3
   },
   "file_extension": ".py",
   "mimetype": "text/x-python",
   "name": "python",
   "nbconvert_exporter": "python",
   "pygments_lexer": "ipython3",
   "version": "3.7.6"
  }
 },
 "nbformat": 4,
 "nbformat_minor": 4
}
