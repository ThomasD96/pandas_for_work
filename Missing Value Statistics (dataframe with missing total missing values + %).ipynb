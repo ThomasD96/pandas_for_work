{
 "cells": [
  {
   "cell_type": "code",
   "execution_count": 1,
   "metadata": {},
   "outputs": [],
   "source": [
    "import pandas as pd\n",
    "import numpy as np"
   ]
  },
  {
   "cell_type": "code",
   "execution_count": 3,
   "metadata": {},
   "outputs": [],
   "source": [
    "#Calculating the percentage of the missing data in each column\n",
    "def missing_data(data):\n",
    "    total = data.isnull().sum() #Total of null values in each column\n",
    "    percent = (total / data.isnull().count()) * 100\n",
    "    unique = data.nunique() #Unique values in entire dataset\n",
    "    datatype = data.dtypes #Finding data types in entire dataset\n",
    "    return pd.concat([total, percent, unique, datatype], axis=1, keys=['Total', 'MissingPercent', 'Unique', 'Data_Type']).sort_values(by = 'MissingPercent', ascending=False)"
   ]
  },
  {
   "cell_type": "code",
   "execution_count": 6,
   "metadata": {},
   "outputs": [],
   "source": [
    "def missing_statistics(df):\n",
    "    '''\n",
    "        Calculates missing value statistics for a given dataframe and\n",
    "        returns a dataframe containing number of missing values per column\n",
    "        and the percentage of values missing per column.\n",
    "        arguments:\n",
    "            df: the dataframe for which missing values need to be calculated.\n",
    "    '''\n",
    "    missing_stats = df.isnull().sum().to_frame()\n",
    "    missing_stats.columns = ['num_missing']\n",
    "    missing_stats['pct_missing'] = np.round(100 * (missing_stats['num_missing'] / df.shape[0]))\n",
    "    missing_stats.sort_values(by='num_missing', ascending=False, inplace=True)\n",
    "\n",
    "    return missing_stats"
   ]
  }
 ],
 "metadata": {
  "hide_input": false,
  "kernelspec": {
   "display_name": "Python 3",
   "language": "python",
   "name": "python3"
  },
  "language_info": {
   "codemirror_mode": {
    "name": "ipython",
    "version": 3
   },
   "file_extension": ".py",
   "mimetype": "text/x-python",
   "name": "python",
   "nbconvert_exporter": "python",
   "pygments_lexer": "ipython3",
   "version": "3.7.6"
  },
  "varInspector": {
   "cols": {
    "lenName": 16,
    "lenType": 16,
    "lenVar": 40
   },
   "kernels_config": {
    "python": {
     "delete_cmd_postfix": "",
     "delete_cmd_prefix": "del ",
     "library": "var_list.py",
     "varRefreshCmd": "print(var_dic_list())"
    },
    "r": {
     "delete_cmd_postfix": ") ",
     "delete_cmd_prefix": "rm(",
     "library": "var_list.r",
     "varRefreshCmd": "cat(var_dic_list()) "
    }
   },
   "types_to_exclude": [
    "module",
    "function",
    "builtin_function_or_method",
    "instance",
    "_Feature"
   ],
   "window_display": false
  }
 },
 "nbformat": 4,
 "nbformat_minor": 2
}
