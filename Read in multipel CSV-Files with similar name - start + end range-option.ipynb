{
 "cells": [
  {
   "cell_type": "code",
   "execution_count": 1,
   "metadata": {},
   "outputs": [],
   "source": [
    "import numpy as np\n",
    "import pandas as pd\n",
    "import statsmodels.api as sm\n",
    "import scipy, scipy.stats\n",
    "pd.options.mode.chained_assignment = None  # default='warn'"
   ]
  },
  {
   "cell_type": "code",
   "execution_count": 2,
   "metadata": {},
   "outputs": [],
   "source": [
    "#Set years of data to look at: 2007-2018\n",
    "start = 2007\n",
    "end = 2018"
   ]
  },
  {
   "cell_type": "code",
   "execution_count": 3,
   "metadata": {},
   "outputs": [],
   "source": [
    "def dfAppend(strat, s, e):\n",
    "    \"\"\"\n",
    "    Reads data and appends to a central df.\n",
    "    df    = data frame to append to\n",
    "    strat = Strategies label {A = Aggressive, C = Conservative}\n",
    "    start = year to start\n",
    "    end   = year to end, not inclusive of end date\n",
    "    \"\"\"\n",
    "    df = pd.DataFrame()\n",
    "    fileRange = np.arange(s, e + 1)     \n",
    "    \n",
    "    for i in fileRange:\n",
    "        if i == s:\n",
    "            dfAdd = pd.read_csv(strat + str(i) + \".csv\", skiprows=range(1,4), sep=',', encoding='iso-8859-1')\n",
    "        else:\n",
    "            dfAdd = pd.read_csv(strat + str(i) + \".csv\", skiprows=range(1,4), sep=',', encoding='iso-8859-1')\n",
    "        dfAdd = dfAdd.iloc[:, : -1] #drops last extra column\n",
    "        dfAdd['Year'] = i\n",
    "        df = df.append(dfAdd, ignore_index = True)\n",
    "\n",
    "    return df"
   ]
  },
  {
   "cell_type": "code",
   "execution_count": 4,
   "metadata": {},
   "outputs": [],
   "source": [
    "###Set up Data Frame\n",
    "\n",
    "#Create empty data frame for the strategies\n",
    "dfA = pd.DataFrame()\n",
    "\n",
    "#Append the list\n",
    "dfA = dfAppend(\"A\", start, end) #year 2007-2018"
   ]
  }
 ],
 "metadata": {
  "hide_input": false,
  "kernelspec": {
   "display_name": "Python 3",
   "language": "python",
   "name": "python3"
  },
  "language_info": {
   "codemirror_mode": {
    "name": "ipython",
    "version": 3
   },
   "file_extension": ".py",
   "mimetype": "text/x-python",
   "name": "python",
   "nbconvert_exporter": "python",
   "pygments_lexer": "ipython3",
   "version": "3.7.6"
  },
  "varInspector": {
   "cols": {
    "lenName": 16,
    "lenType": 16,
    "lenVar": 40
   },
   "kernels_config": {
    "python": {
     "delete_cmd_postfix": "",
     "delete_cmd_prefix": "del ",
     "library": "var_list.py",
     "varRefreshCmd": "print(var_dic_list())"
    },
    "r": {
     "delete_cmd_postfix": ") ",
     "delete_cmd_prefix": "rm(",
     "library": "var_list.r",
     "varRefreshCmd": "cat(var_dic_list()) "
    }
   },
   "types_to_exclude": [
    "module",
    "function",
    "builtin_function_or_method",
    "instance",
    "_Feature"
   ],
   "window_display": false
  }
 },
 "nbformat": 4,
 "nbformat_minor": 2
}
