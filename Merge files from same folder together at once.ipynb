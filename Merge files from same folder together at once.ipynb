{
 "cells": [
  {
   "cell_type": "code",
   "execution_count": 22,
   "metadata": {},
   "outputs": [],
   "source": [
    "import pandas as pd\n",
    "import glob\n",
    "import os\n",
    "import re"
   ]
  },
  {
   "cell_type": "code",
   "execution_count": 24,
   "metadata": {},
   "outputs": [],
   "source": [
    "path = os.getcwd()\n",
    "all_files = glob.glob(path + \"/*.txt\")"
   ]
  },
  {
   "cell_type": "code",
   "execution_count": 25,
   "metadata": {},
   "outputs": [
    {
     "data": {
      "text/plain": [
       "['C:\\\\Users\\\\tdornigg\\\\Anaconda_KPMG\\\\git_logs\\\\mvbl-ako-gitlog.txt',\n",
       " 'C:\\\\Users\\\\tdornigg\\\\Anaconda_KPMG\\\\git_logs\\\\mvbl-bw-gitlog.txt',\n",
       " 'C:\\\\Users\\\\tdornigg\\\\Anaconda_KPMG\\\\git_logs\\\\mvbl-cd-gitlog.txt',\n",
       " 'C:\\\\Users\\\\tdornigg\\\\Anaconda_KPMG\\\\git_logs\\\\mvbl-frontend-angular-gitlog.txt',\n",
       " 'C:\\\\Users\\\\tdornigg\\\\Anaconda_KPMG\\\\git_logs\\\\mvbl-frontend-gitlog.txt',\n",
       " 'C:\\\\Users\\\\tdornigg\\\\Anaconda_KPMG\\\\git_logs\\\\mvbl-iqs-tests-gitlog.txt',\n",
       " 'C:\\\\Users\\\\tdornigg\\\\Anaconda_KPMG\\\\git_logs\\\\mvbl-lw-gitlog.txt',\n",
       " 'C:\\\\Users\\\\tdornigg\\\\Anaconda_KPMG\\\\git_logs\\\\mvbl-mdsd-gitlog.txt',\n",
       " 'C:\\\\Users\\\\tdornigg\\\\Anaconda_KPMG\\\\git_logs\\\\mvbl-mwa-gitlog.txt',\n",
       " 'C:\\\\Users\\\\tdornigg\\\\Anaconda_KPMG\\\\git_logs\\\\mvbl-mwe-gitlog.txt',\n",
       " 'C:\\\\Users\\\\tdornigg\\\\Anaconda_KPMG\\\\git_logs\\\\mvbl-parent-gitlog.txt',\n",
       " 'C:\\\\Users\\\\tdornigg\\\\Anaconda_KPMG\\\\git_logs\\\\mvbl-piplelines-gitlog.txt',\n",
       " 'C:\\\\Users\\\\tdornigg\\\\Anaconda_KPMG\\\\git_logs\\\\mvbl-server-gitlog.txt',\n",
       " 'C:\\\\Users\\\\tdornigg\\\\Anaconda_KPMG\\\\git_logs\\\\mvbl-std-gitlog.txt',\n",
       " 'C:\\\\Users\\\\tdornigg\\\\Anaconda_KPMG\\\\git_logs\\\\mvbl-tasy-gitlog.txt',\n",
       " 'C:\\\\Users\\\\tdornigg\\\\Anaconda_KPMG\\\\git_logs\\\\mvbl-testdata-gitlog.txt',\n",
       " 'C:\\\\Users\\\\tdornigg\\\\Anaconda_KPMG\\\\git_logs\\\\mvbl-tools-gitlog.txt',\n",
       " 'C:\\\\Users\\\\tdornigg\\\\Anaconda_KPMG\\\\git_logs\\\\mvbl-vw-gitlog.txt',\n",
       " 'C:\\\\Users\\\\tdornigg\\\\Anaconda_KPMG\\\\git_logs\\\\mvbl_common_gitlog.txt']"
      ]
     },
     "execution_count": 25,
     "metadata": {},
     "output_type": "execute_result"
    }
   ],
   "source": [
    "all_files"
   ]
  },
  {
   "cell_type": "code",
   "execution_count": 26,
   "metadata": {},
   "outputs": [],
   "source": [
    "def merge_files (input_path, ending):\n",
    "    path = input_path\n",
    "    all_files = glob.glob(path + ending)\n",
    "\n",
    "    li = []\n",
    "    \n",
    "    if ending == \"/*.txt\":\n",
    "    \n",
    "        for file in all_files:\n",
    "            f = open(file)\n",
    "            mylines = f.readlines()\n",
    "            files = pd.DataFrame(mylines)\n",
    "            li.append(files)\n",
    "\n",
    "            df = pd.concat(li, axis=0, ignore_index=True)\n",
    "            df.columns = ['logs']\n",
    "\n",
    "            df = df.replace('Ã„', 'Ä', regex=True)\n",
    "            df = df.replace('Ã¤', 'ä', regex=True)\n",
    "            df = df.replace('Ã–', 'Ö', regex=True)\n",
    "            df = df.replace('Ã¶', 'ö', regex=True)\n",
    "            df = df.replace('Ãœ', 'Ü', regex=True)\n",
    "            df = df.replace('Ã¼', 'ü', regex=True)\n",
    "            \n",
    "    elif ending == '/*.xlsx':\n",
    "        for filename in all_files:\n",
    "            df = pd.read_excel(filename, header = None, index_col=None)\n",
    "            li.append(df)\n",
    "                    \n",
    "    else:\n",
    "        for filename in all_files:\n",
    "            df = pd.read_csv(filename, header=None, index_col=None)\n",
    "            li.append(df)\n",
    "\n",
    "    return df"
   ]
  },
  {
   "cell_type": "code",
   "execution_count": 27,
   "metadata": {},
   "outputs": [
    {
     "data": {
      "text/plain": [
       "(18539, 1)"
      ]
     },
     "execution_count": 27,
     "metadata": {},
     "output_type": "execute_result"
    }
   ],
   "source": [
    "df = merge_files (input_path = 'C:\\\\Users\\\\tdornigg\\\\Anaconda_KPMG\\\\git_logs', ending = \"/*.txt\")\n",
    "df.shape"
   ]
  },
  {
   "cell_type": "code",
   "execution_count": 28,
   "metadata": {},
   "outputs": [
    {
     "data": {
      "text/plain": [
       "18539"
      ]
     },
     "execution_count": 28,
     "metadata": {},
     "output_type": "execute_result"
    }
   ],
   "source": [
    "# check if row_count is the same as before\n",
    "row_count = []\n",
    "for i in all_files:\n",
    "    f = open(i)\n",
    "    mylines = f.readlines()\n",
    "    files = pd.DataFrame(mylines)\n",
    "    row_count.append(files.shape)\n",
    "\n",
    "row_df = pd.DataFrame(row_count)\n",
    "row_df.columns = ['rows', 'cols']\n",
    "row_sum = sum(row_df['rows'])\n",
    "row_sum"
   ]
  }
 ],
 "metadata": {
  "kernelspec": {
   "display_name": "Python 3",
   "language": "python",
   "name": "python3"
  },
  "language_info": {
   "codemirror_mode": {
    "name": "ipython",
    "version": 3
   },
   "file_extension": ".py",
   "mimetype": "text/x-python",
   "name": "python",
   "nbconvert_exporter": "python",
   "pygments_lexer": "ipython3",
   "version": "3.7.6"
  }
 },
 "nbformat": 4,
 "nbformat_minor": 4
}
